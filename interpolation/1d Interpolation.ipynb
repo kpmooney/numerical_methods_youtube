{
 "cells": [
  {
   "cell_type": "code",
   "execution_count": 2,
   "id": "6d81bd98",
   "metadata": {},
   "outputs": [],
   "source": [
    "import numpy as np\n",
    "from scipy.interpolate import interp1d\n",
    "import matplotlib.pyplot as plt\n",
    "\n",
    "%matplotlib inline"
   ]
  },
  {
   "cell_type": "markdown",
   "id": "fdbf4421",
   "metadata": {},
   "source": [
    "These are our data. We wish in interpolate to estimate values y-values between our data points."
   ]
  },
  {
   "cell_type": "code",
   "execution_count": 11,
   "id": "19e628fa",
   "metadata": {},
   "outputs": [
    {
     "data": {
      "text/plain": [
       "Text(0, 0.5, 'y')"
      ]
     },
     "execution_count": 11,
     "metadata": {},
     "output_type": "execute_result"
    },
    {
     "data": {
      "image/png": "[encoded data removed]",
      "text/plain": [
       "<Figure size 432x288 with 1 Axes>"
      ]
     },
     "metadata": {
      "needs_background": "light"
     },
     "output_type": "display_data"
    }
   ],
   "source": [
    "#  Create data.\n",
    "\n",
    "x = np.linspace(0, 10, 11)\n",
    "y = 0.1 * x**2\n",
    "\n",
    "#  Plot data\n",
    "plt.plot(x, y, 'o')\n",
    "plt.grid()\n",
    "plt.xlabel('x')\n",
    "plt.ylabel('y')"
   ]
  },
  {
   "cell_type": "markdown",
   "id": "90104b38",
   "metadata": {},
   "source": [
    "Manually do the interpolation for $x = 3.5$."
   ]
  },
  {
   "cell_type": "code",
   "execution_count": 7,
   "id": "9307b331",
   "metadata": {},
   "outputs": [
    {
     "data": {
      "text/plain": [
       "1.25"
      ]
     },
     "execution_count": 7,
     "metadata": {},
     "output_type": "execute_result"
    }
   ],
   "source": [
    "m = (y[4] - y[3]) / (x[4] - x[3])  #  Slope of line between x = 3 and 4\n",
    "m * (3.5 - x[3]) + y[3]  #  Do the interpolation"
   ]
  },
  {
   "cell_type": "code",
   "execution_count": 13,
   "id": "70d8c8ff",
   "metadata": {},
   "outputs": [
    {
     "data": {
      "text/plain": [
       "array(1.25)"
      ]
     },
     "execution_count": 13,
     "metadata": {},
     "output_type": "execute_result"
    }
   ],
   "source": [
    "#  interp1d essentially returns a function that does the interplation for you.  It can handle arrays as well as scalars\n",
    "#  x must be monotonically increasing, but interp1d can sort it for you.\n",
    "#  The flag assumme_sorted = True skips this\n",
    "f = interp1d(x, y, assume_sorted = True)\n",
    "f(3.5)"
   ]
  },
  {
   "cell_type": "code",
   "execution_count": 15,
   "id": "b362d1d1",
   "metadata": {},
   "outputs": [
    {
     "data": {
      "text/plain": [
       "<matplotlib.legend.Legend at 0x12c08ba3f48>"
      ]
     },
     "execution_count": 15,
     "metadata": {},
     "output_type": "execute_result"
    },
    {
     "data": {
      "image/png": "[encoded data removed]",
      "text/plain": [
       "<Figure size 432x288 with 1 Axes>"
      ]
     },
     "metadata": {
      "needs_background": "light"
     },
     "output_type": "display_data"
    }
   ],
   "source": [
    "u = np.linspace(0, 10, 100)\n",
    "\n",
    "plt.plot(x, y, 'o', label = 'Data Points')\n",
    "plt.plot(u, f(u), 'k', label = 'Interpolation')\n",
    "plt.grid()\n",
    "plt.xlabel('x')\n",
    "plt.ylabel('y')\n",
    "plt.legend()"
   ]
  },
  {
   "cell_type": "code",
   "execution_count": null,
   "id": "96aa3fb9",
   "metadata": {},
   "outputs": [],
   "source": []
  }
 ],
 "metadata": {
  "kernelspec": {
   "display_name": "Python 3",
   "language": "python",
   "name": "python3"
  },
  "language_info": {
   "codemirror_mode": {
    "name": "ipython",
    "version": 3
   },
   "file_extension": ".py",
   "mimetype": "text/x-python",
   "name": "python",
   "nbconvert_exporter": "python",
   "pygments_lexer": "ipython3",
   "version": "3.7.16"
  }
 },
 "nbformat": 4,
 "nbformat_minor": 5
}
